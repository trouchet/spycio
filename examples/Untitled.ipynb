{
 "cells": [
  {
   "cell_type": "code",
   "execution_count": 3,
   "id": "a22c852c",
   "metadata": {},
   "outputs": [
    {
     "name": "stdout",
     "output_type": "stream",
     "text": [
      "Defaulting to user installation because normal site-packages is not writeable\n",
      "Requirement already satisfied: spycio==0.2.5 in /home/brunolnetto/.local/lib/python3.8/site-packages (0.2.5)\n",
      "Requirement already satisfied: types-toml<0.11.0.0,>=0.10.8.5 in /home/brunolnetto/.local/lib/python3.8/site-packages (from spycio==0.2.5) (0.10.8.6)\n",
      "Requirement already satisfied: numpy<2.0.0,>=1.24.1 in /home/brunolnetto/.local/lib/python3.8/site-packages (from spycio==0.2.5) (1.24.3)\n",
      "Requirement already satisfied: sphinx-rtd-theme<2.0.0,>=1.2.0 in /home/brunolnetto/.local/lib/python3.8/site-packages (from spycio==0.2.5) (1.2.0)\n",
      "Requirement already satisfied: docutils==0.18.1 in /home/brunolnetto/.local/lib/python3.8/site-packages (from spycio==0.2.5) (0.18.1)\n",
      "Requirement already satisfied: toml<0.11.0,>=0.10.2 in /usr/local/lib/python3.8/dist-packages (from spycio==0.2.5) (0.10.2)\n",
      "Requirement already satisfied: pytest-testmon<3.0.0,>=2.0.2 in /usr/local/lib/python3.8/dist-packages (from spycio==0.2.5) (2.0.2)\n",
      "Requirement already satisfied: coverage<8,>=6 in /usr/local/lib/python3.8/dist-packages (from pytest-testmon<3.0.0,>=2.0.2->spycio==0.2.5) (6.1.1)\n",
      "Requirement already satisfied: pytest<8,>=5 in /usr/local/lib/python3.8/dist-packages (from pytest-testmon<3.0.0,>=2.0.2->spycio==0.2.5) (6.2.4)\n",
      "Requirement already satisfied: sphinxcontrib-jquery!=3.0.0,>=2.0.0 in /home/brunolnetto/.local/lib/python3.8/site-packages (from sphinx-rtd-theme<2.0.0,>=1.2.0->spycio==0.2.5) (4.1)\n",
      "Requirement already satisfied: sphinx<7,>=1.6 in /usr/local/lib/python3.8/dist-packages (from sphinx-rtd-theme<2.0.0,>=1.2.0->spycio==0.2.5) (1.8.5)\n",
      "Requirement already satisfied: packaging in /usr/local/lib/python3.8/dist-packages (from pytest<8,>=5->pytest-testmon<3.0.0,>=2.0.2->spycio==0.2.5) (21.3)\n",
      "Requirement already satisfied: py>=1.8.2 in /usr/local/lib/python3.8/dist-packages (from pytest<8,>=5->pytest-testmon<3.0.0,>=2.0.2->spycio==0.2.5) (1.11.0)\n",
      "Requirement already satisfied: attrs>=19.2.0 in /usr/local/lib/python3.8/dist-packages (from pytest<8,>=5->pytest-testmon<3.0.0,>=2.0.2->spycio==0.2.5) (21.4.0)\n",
      "Requirement already satisfied: iniconfig in /usr/local/lib/python3.8/dist-packages (from pytest<8,>=5->pytest-testmon<3.0.0,>=2.0.2->spycio==0.2.5) (1.1.1)\n",
      "Requirement already satisfied: pluggy<1.0.0a1,>=0.12 in /usr/local/lib/python3.8/dist-packages (from pytest<8,>=5->pytest-testmon<3.0.0,>=2.0.2->spycio==0.2.5) (0.13.1)\n",
      "Requirement already satisfied: six>=1.5 in /usr/local/lib/python3.8/dist-packages (from sphinx<7,>=1.6->sphinx-rtd-theme<2.0.0,>=1.2.0->spycio==0.2.5) (1.16.0)\n",
      "Requirement already satisfied: requests>=2.0.0 in /usr/local/lib/python3.8/dist-packages (from sphinx<7,>=1.6->sphinx-rtd-theme<2.0.0,>=1.2.0->spycio==0.2.5) (2.27.1)\n",
      "Requirement already satisfied: imagesize in /usr/local/lib/python3.8/dist-packages (from sphinx<7,>=1.6->sphinx-rtd-theme<2.0.0,>=1.2.0->spycio==0.2.5) (1.4.1)\n",
      "Requirement already satisfied: babel!=2.0,>=1.3 in /usr/local/lib/python3.8/dist-packages (from sphinx<7,>=1.6->sphinx-rtd-theme<2.0.0,>=1.2.0->spycio==0.2.5) (2.11.0)\n",
      "Requirement already satisfied: alabaster<0.8,>=0.7 in /usr/local/lib/python3.8/dist-packages (from sphinx<7,>=1.6->sphinx-rtd-theme<2.0.0,>=1.2.0->spycio==0.2.5) (0.7.12)\n",
      "Requirement already satisfied: sphinxcontrib-websupport in /usr/local/lib/python3.8/dist-packages (from sphinx<7,>=1.6->sphinx-rtd-theme<2.0.0,>=1.2.0->spycio==0.2.5) (1.1.0)\n",
      "Requirement already satisfied: setuptools in /usr/local/lib/python3.8/dist-packages (from sphinx<7,>=1.6->sphinx-rtd-theme<2.0.0,>=1.2.0->spycio==0.2.5) (62.3.2)\n",
      "Requirement already satisfied: Jinja2>=2.3 in /usr/local/lib/python3.8/dist-packages (from sphinx<7,>=1.6->sphinx-rtd-theme<2.0.0,>=1.2.0->spycio==0.2.5) (3.1.2)\n",
      "Requirement already satisfied: snowballstemmer>=1.1 in /usr/local/lib/python3.8/dist-packages (from sphinx<7,>=1.6->sphinx-rtd-theme<2.0.0,>=1.2.0->spycio==0.2.5) (2.2.0)\n",
      "Requirement already satisfied: Pygments>=2.0 in /usr/local/lib/python3.8/dist-packages (from sphinx<7,>=1.6->sphinx-rtd-theme<2.0.0,>=1.2.0->spycio==0.2.5) (2.12.0)\n",
      "Requirement already satisfied: pytz>=2015.7 in /usr/local/lib/python3.8/dist-packages (from babel!=2.0,>=1.3->sphinx<7,>=1.6->sphinx-rtd-theme<2.0.0,>=1.2.0->spycio==0.2.5) (2022.1)\n",
      "Requirement already satisfied: MarkupSafe>=2.0 in /usr/local/lib/python3.8/dist-packages (from Jinja2>=2.3->sphinx<7,>=1.6->sphinx-rtd-theme<2.0.0,>=1.2.0->spycio==0.2.5) (2.1.1)\n",
      "Requirement already satisfied: certifi>=2017.4.17 in /usr/local/lib/python3.8/dist-packages (from requests>=2.0.0->sphinx<7,>=1.6->sphinx-rtd-theme<2.0.0,>=1.2.0->spycio==0.2.5) (2022.5.18.1)\n",
      "Requirement already satisfied: idna<4,>=2.5 in /usr/local/lib/python3.8/dist-packages (from requests>=2.0.0->sphinx<7,>=1.6->sphinx-rtd-theme<2.0.0,>=1.2.0->spycio==0.2.5) (3.3)\n",
      "Requirement already satisfied: charset-normalizer~=2.0.0 in /usr/local/lib/python3.8/dist-packages (from requests>=2.0.0->sphinx<7,>=1.6->sphinx-rtd-theme<2.0.0,>=1.2.0->spycio==0.2.5) (2.0.12)\n",
      "Requirement already satisfied: urllib3<1.27,>=1.21.1 in /usr/local/lib/python3.8/dist-packages (from requests>=2.0.0->sphinx<7,>=1.6->sphinx-rtd-theme<2.0.0,>=1.2.0->spycio==0.2.5) (1.26.9)\n",
      "Requirement already satisfied: pyparsing!=3.0.5,>=2.0.2 in /usr/local/lib/python3.8/dist-packages (from packaging->pytest<8,>=5->pytest-testmon<3.0.0,>=2.0.2->spycio==0.2.5) (3.0.9)\n",
      "\n",
      "\u001b[1m[\u001b[0m\u001b[34;49mnotice\u001b[0m\u001b[1;39;49m]\u001b[0m\u001b[39;49m A new release of pip is available: \u001b[0m\u001b[31;49m23.0.1\u001b[0m\u001b[39;49m -> \u001b[0m\u001b[32;49m23.1\u001b[0m\n",
      "\u001b[1m[\u001b[0m\u001b[34;49mnotice\u001b[0m\u001b[1;39;49m]\u001b[0m\u001b[39;49m To update, run: \u001b[0m\u001b[32;49mpython3 -m pip install --upgrade pip\u001b[0m\n"
     ]
    }
   ],
   "source": [
    "!pip install spycio==0.2.5"
   ]
  },
  {
   "cell_type": "code",
   "execution_count": 4,
   "id": "7108413a",
   "metadata": {},
   "outputs": [
    {
     "ename": "ImportError",
     "evalue": "cannot import name 'distance' from partially initialized module 'spycio' (most likely due to a circular import) (/home/brunolnetto/github/alloyha/experiments/libraries/python-statemachine/issue_257/.venv/lib/python3.8/site-packages/spycio/__init__.py)",
     "output_type": "error",
     "traceback": [
      "\u001b[0;31m---------------------------------------------------------------------------\u001b[0m",
      "\u001b[0;31mImportError\u001b[0m                               Traceback (most recent call last)",
      "Cell \u001b[0;32mIn[4], line 1\u001b[0m\n\u001b[0;32m----> 1\u001b[0m \u001b[38;5;28;01mimport\u001b[39;00m \u001b[38;5;21;01mspycio\u001b[39;00m\n",
      "File \u001b[0;32m~/github/alloyha/experiments/libraries/python-statemachine/issue_257/.venv/lib/python3.8/site-packages/spycio/__init__.py:7\u001b[0m\n\u001b[1;32m      3\u001b[0m \u001b[38;5;66;03m# -*- coding: utf-8 -*-\u001b[39;00m\n\u001b[1;32m      5\u001b[0m \u001b[38;5;28;01mfrom\u001b[39;00m \u001b[38;5;21;01m__future__\u001b[39;00m \u001b[38;5;28;01mimport\u001b[39;00m annotations\n\u001b[0;32m----> 7\u001b[0m \u001b[38;5;28;01mfrom\u001b[39;00m \u001b[38;5;21;01mspycio\u001b[39;00m \u001b[38;5;28;01mimport\u001b[39;00m distance\n\u001b[1;32m      9\u001b[0m __author__ \u001b[38;5;241m=\u001b[39m \u001b[38;5;124m\"\"\"\u001b[39m\u001b[38;5;124mBruno Peixoto\u001b[39m\u001b[38;5;124m\"\"\"\u001b[39m\n\u001b[1;32m     10\u001b[0m __email__ \u001b[38;5;241m=\u001b[39m \u001b[38;5;124m'\u001b[39m\u001b[38;5;124mbrunolnetto@gmail.com\u001b[39m\u001b[38;5;124m'\u001b[39m\n",
      "\u001b[0;31mImportError\u001b[0m: cannot import name 'distance' from partially initialized module 'spycio' (most likely due to a circular import) (/home/brunolnetto/github/alloyha/experiments/libraries/python-statemachine/issue_257/.venv/lib/python3.8/site-packages/spycio/__init__.py)"
     ]
    }
   ],
   "source": [
    "import spycio"
   ]
  },
  {
   "cell_type": "code",
   "execution_count": null,
   "id": "24c4160a",
   "metadata": {},
   "outputs": [],
   "source": []
  }
 ],
 "metadata": {
  "kernelspec": {
   "display_name": ".venv",
   "language": "python",
   "name": ".venv"
  },
  "language_info": {
   "codemirror_mode": {
    "name": "ipython",
    "version": 3
   },
   "file_extension": ".py",
   "mimetype": "text/x-python",
   "name": "python",
   "nbconvert_exporter": "python",
   "pygments_lexer": "ipython3",
   "version": "3.8.10"
  }
 },
 "nbformat": 4,
 "nbformat_minor": 5
}
