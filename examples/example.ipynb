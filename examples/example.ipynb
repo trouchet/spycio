{
 "cells": [
  {
   "cell_type": "code",
   "execution_count": 1,
   "id": "84f2755e",
   "metadata": {},
   "outputs": [
    {
     "name": "stdout",
     "output_type": "stream",
     "text": [
      "Requirement already satisfied: spycio in /home/brunolnetto/github/alloyha/experiments/libraries/python-statemachine/issue_257/.venv/lib/python3.8/site-packages (0.0.3)\n",
      "Requirement already satisfied: docutils==0.18.1 in /home/brunolnetto/github/alloyha/experiments/libraries/python-statemachine/issue_257/.venv/lib/python3.8/site-packages (from spycio) (0.18.1)\n",
      "Requirement already satisfied: numpy<2.0.0,>=1.24.1 in /home/brunolnetto/github/alloyha/experiments/libraries/python-statemachine/issue_257/.venv/lib/python3.8/site-packages (from spycio) (1.24.2)\n",
      "Requirement already satisfied: toml<0.11.0,>=0.10.2 in /home/brunolnetto/github/alloyha/experiments/libraries/python-statemachine/issue_257/.venv/lib/python3.8/site-packages (from spycio) (0.10.2)\n",
      "Requirement already satisfied: sphinx-rtd-theme<2.0.0,>=1.2.0 in /home/brunolnetto/github/alloyha/experiments/libraries/python-statemachine/issue_257/.venv/lib/python3.8/site-packages (from spycio) (1.2.0)\n",
      "Requirement already satisfied: types-toml<0.11.0.0,>=0.10.8.5 in /home/brunolnetto/github/alloyha/experiments/libraries/python-statemachine/issue_257/.venv/lib/python3.8/site-packages (from spycio) (0.10.8.6)\n",
      "Requirement already satisfied: sphinx<7,>=1.6 in /home/brunolnetto/github/alloyha/experiments/libraries/python-statemachine/issue_257/.venv/lib/python3.8/site-packages (from sphinx-rtd-theme<2.0.0,>=1.2.0->spycio) (6.1.3)\n",
      "Requirement already satisfied: sphinxcontrib-jquery!=3.0.0,>=2.0.0 in /home/brunolnetto/github/alloyha/experiments/libraries/python-statemachine/issue_257/.venv/lib/python3.8/site-packages (from sphinx-rtd-theme<2.0.0,>=1.2.0->spycio) (4.1)\n",
      "Requirement already satisfied: packaging>=21.0 in /home/brunolnetto/github/alloyha/experiments/libraries/python-statemachine/issue_257/.venv/lib/python3.8/site-packages (from sphinx<7,>=1.6->sphinx-rtd-theme<2.0.0,>=1.2.0->spycio) (22.0)\n",
      "Requirement already satisfied: snowballstemmer>=2.0 in /home/brunolnetto/github/alloyha/experiments/libraries/python-statemachine/issue_257/.venv/lib/python3.8/site-packages (from sphinx<7,>=1.6->sphinx-rtd-theme<2.0.0,>=1.2.0->spycio) (2.2.0)\n",
      "Requirement already satisfied: imagesize>=1.3 in /home/brunolnetto/github/alloyha/experiments/libraries/python-statemachine/issue_257/.venv/lib/python3.8/site-packages (from sphinx<7,>=1.6->sphinx-rtd-theme<2.0.0,>=1.2.0->spycio) (1.4.1)\n",
      "Requirement already satisfied: sphinxcontrib-serializinghtml>=1.1.5 in /home/brunolnetto/github/alloyha/experiments/libraries/python-statemachine/issue_257/.venv/lib/python3.8/site-packages (from sphinx<7,>=1.6->sphinx-rtd-theme<2.0.0,>=1.2.0->spycio) (1.1.5)\n",
      "Requirement already satisfied: sphinxcontrib-devhelp in /home/brunolnetto/github/alloyha/experiments/libraries/python-statemachine/issue_257/.venv/lib/python3.8/site-packages (from sphinx<7,>=1.6->sphinx-rtd-theme<2.0.0,>=1.2.0->spycio) (1.0.2)\n",
      "Requirement already satisfied: Pygments>=2.13 in /home/brunolnetto/github/alloyha/experiments/libraries/python-statemachine/issue_257/.venv/lib/python3.8/site-packages (from sphinx<7,>=1.6->sphinx-rtd-theme<2.0.0,>=1.2.0->spycio) (2.13.0)\n",
      "Requirement already satisfied: sphinxcontrib-htmlhelp>=2.0.0 in /home/brunolnetto/github/alloyha/experiments/libraries/python-statemachine/issue_257/.venv/lib/python3.8/site-packages (from sphinx<7,>=1.6->sphinx-rtd-theme<2.0.0,>=1.2.0->spycio) (2.0.1)\n",
      "Requirement already satisfied: sphinxcontrib-qthelp in /home/brunolnetto/github/alloyha/experiments/libraries/python-statemachine/issue_257/.venv/lib/python3.8/site-packages (from sphinx<7,>=1.6->sphinx-rtd-theme<2.0.0,>=1.2.0->spycio) (1.0.3)\n",
      "Requirement already satisfied: Jinja2>=3.0 in /home/brunolnetto/github/alloyha/experiments/libraries/python-statemachine/issue_257/.venv/lib/python3.8/site-packages (from sphinx<7,>=1.6->sphinx-rtd-theme<2.0.0,>=1.2.0->spycio) (3.1.2)\n",
      "Requirement already satisfied: alabaster<0.8,>=0.7 in /home/brunolnetto/github/alloyha/experiments/libraries/python-statemachine/issue_257/.venv/lib/python3.8/site-packages (from sphinx<7,>=1.6->sphinx-rtd-theme<2.0.0,>=1.2.0->spycio) (0.7.13)\n",
      "Requirement already satisfied: requests>=2.25.0 in /home/brunolnetto/github/alloyha/experiments/libraries/python-statemachine/issue_257/.venv/lib/python3.8/site-packages (from sphinx<7,>=1.6->sphinx-rtd-theme<2.0.0,>=1.2.0->spycio) (2.28.2)\n",
      "Requirement already satisfied: sphinxcontrib-jsmath in /home/brunolnetto/github/alloyha/experiments/libraries/python-statemachine/issue_257/.venv/lib/python3.8/site-packages (from sphinx<7,>=1.6->sphinx-rtd-theme<2.0.0,>=1.2.0->spycio) (1.0.1)\n",
      "Requirement already satisfied: babel>=2.9 in /home/brunolnetto/github/alloyha/experiments/libraries/python-statemachine/issue_257/.venv/lib/python3.8/site-packages (from sphinx<7,>=1.6->sphinx-rtd-theme<2.0.0,>=1.2.0->spycio) (2.12.1)\n",
      "Requirement already satisfied: sphinxcontrib-applehelp in /home/brunolnetto/github/alloyha/experiments/libraries/python-statemachine/issue_257/.venv/lib/python3.8/site-packages (from sphinx<7,>=1.6->sphinx-rtd-theme<2.0.0,>=1.2.0->spycio) (1.0.4)\n",
      "Requirement already satisfied: importlib-metadata>=4.8 in /home/brunolnetto/github/alloyha/experiments/libraries/python-statemachine/issue_257/.venv/lib/python3.8/site-packages (from sphinx<7,>=1.6->sphinx-rtd-theme<2.0.0,>=1.2.0->spycio) (6.1.0)\n",
      "Requirement already satisfied: pytz>=2015.7 in /home/brunolnetto/github/alloyha/experiments/libraries/python-statemachine/issue_257/.venv/lib/python3.8/site-packages (from babel>=2.9->sphinx<7,>=1.6->sphinx-rtd-theme<2.0.0,>=1.2.0->spycio) (2023.3)\n",
      "Requirement already satisfied: zipp>=0.5 in /home/brunolnetto/github/alloyha/experiments/libraries/python-statemachine/issue_257/.venv/lib/python3.8/site-packages (from importlib-metadata>=4.8->sphinx<7,>=1.6->sphinx-rtd-theme<2.0.0,>=1.2.0->spycio) (3.15.0)\n",
      "Requirement already satisfied: MarkupSafe>=2.0 in /home/brunolnetto/github/alloyha/experiments/libraries/python-statemachine/issue_257/.venv/lib/python3.8/site-packages (from Jinja2>=3.0->sphinx<7,>=1.6->sphinx-rtd-theme<2.0.0,>=1.2.0->spycio) (2.1.2)\n",
      "Requirement already satisfied: charset-normalizer<4,>=2 in /home/brunolnetto/github/alloyha/experiments/libraries/python-statemachine/issue_257/.venv/lib/python3.8/site-packages (from requests>=2.25.0->sphinx<7,>=1.6->sphinx-rtd-theme<2.0.0,>=1.2.0->spycio) (3.1.0)\n",
      "Requirement already satisfied: certifi>=2017.4.17 in /home/brunolnetto/github/alloyha/experiments/libraries/python-statemachine/issue_257/.venv/lib/python3.8/site-packages (from requests>=2.25.0->sphinx<7,>=1.6->sphinx-rtd-theme<2.0.0,>=1.2.0->spycio) (2022.12.7)\n",
      "Requirement already satisfied: idna<4,>=2.5 in /home/brunolnetto/github/alloyha/experiments/libraries/python-statemachine/issue_257/.venv/lib/python3.8/site-packages (from requests>=2.25.0->sphinx<7,>=1.6->sphinx-rtd-theme<2.0.0,>=1.2.0->spycio) (3.4)\n",
      "Requirement already satisfied: urllib3<1.27,>=1.21.1 in /home/brunolnetto/github/alloyha/experiments/libraries/python-statemachine/issue_257/.venv/lib/python3.8/site-packages (from requests>=2.25.0->sphinx<7,>=1.6->sphinx-rtd-theme<2.0.0,>=1.2.0->spycio) (1.26.15)\n"
     ]
    }
   ],
   "source": [
    "!pip install spycio"
   ]
  },
  {
   "cell_type": "code",
   "execution_count": 2,
   "id": "a37f090f",
   "metadata": {},
   "outputs": [
    {
     "ename": "ImportError",
     "evalue": "cannot import name 'distance' from partially initialized module 'spycio' (most likely due to a circular import) (/home/brunolnetto/github/alloyha/experiments/libraries/python-statemachine/issue_257/.venv/lib/python3.8/site-packages/spycio/__init__.py)",
     "output_type": "error",
     "traceback": [
      "\u001b[0;31m---------------------------------------------------------------------------\u001b[0m",
      "\u001b[0;31mImportError\u001b[0m                               Traceback (most recent call last)",
      "Cell \u001b[0;32mIn[2], line 1\u001b[0m\n\u001b[0;32m----> 1\u001b[0m \u001b[39mfrom\u001b[39;00m \u001b[39mspycio\u001b[39;00m \u001b[39mimport\u001b[39;00m distance\n\u001b[1;32m      3\u001b[0m A\u001b[39m=\u001b[39m[\u001b[39m0\u001b[39m, \u001b[39m0\u001b[39m]\n\u001b[1;32m      4\u001b[0m B\u001b[39m=\u001b[39m[\u001b[39m1\u001b[39m, \u001b[39m1\u001b[39m]\n",
      "File \u001b[0;32m~/github/alloyha/experiments/libraries/python-statemachine/issue_257/.venv/lib/python3.8/site-packages/spycio/__init__.py:7\u001b[0m\n\u001b[1;32m      3\u001b[0m \u001b[39m# -*- coding: utf-8 -*-\u001b[39;00m\n\u001b[1;32m      5\u001b[0m \u001b[39mfrom\u001b[39;00m \u001b[39m__future__\u001b[39;00m \u001b[39mimport\u001b[39;00m annotations\n\u001b[0;32m----> 7\u001b[0m \u001b[39mfrom\u001b[39;00m \u001b[39mspycio\u001b[39;00m \u001b[39mimport\u001b[39;00m distance\n\u001b[1;32m      9\u001b[0m __author__ \u001b[39m=\u001b[39m \u001b[39m\"\"\"\u001b[39m\u001b[39mBruno Peixoto\u001b[39m\u001b[39m\"\"\"\u001b[39m\n\u001b[1;32m     10\u001b[0m __email__ \u001b[39m=\u001b[39m \u001b[39m'\u001b[39m\u001b[39mbrunolnetto@gmail.com\u001b[39m\u001b[39m'\u001b[39m\n",
      "\u001b[0;31mImportError\u001b[0m: cannot import name 'distance' from partially initialized module 'spycio' (most likely due to a circular import) (/home/brunolnetto/github/alloyha/experiments/libraries/python-statemachine/issue_257/.venv/lib/python3.8/site-packages/spycio/__init__.py)"
     ]
    }
   ],
   "source": [
    "from spycio import distance\n",
    "\n",
    "A=[0, 0]\n",
    "B=[1, 1]\n",
    "\n",
    "print(distance(A, B))\n"
   ]
  },
  {
   "cell_type": "code",
   "execution_count": null,
   "id": "afc49a4a",
   "metadata": {},
   "outputs": [],
   "source": []
  }
 ],
 "metadata": {
  "kernelspec": {
   "display_name": ".venv",
   "language": "python",
   "name": ".venv"
  },
  "language_info": {
   "codemirror_mode": {
    "name": "ipython",
    "version": 3
   },
   "file_extension": ".py",
   "mimetype": "text/x-python",
   "name": "python",
   "nbconvert_exporter": "python",
   "pygments_lexer": "ipython3",
   "version": "3.8.10"
  },
  "vscode": {
   "interpreter": {
    "hash": "f9f85f796d01129d0dd105a088854619f454435301f6ffec2fea96ecbd9be4ac"
   }
  }
 },
 "nbformat": 4,
 "nbformat_minor": 5
}
