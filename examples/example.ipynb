{
 "cells": [
  {
   "cell_type": "code",
   "execution_count": null,
   "id": "3e2fcdd8",
   "metadata": {},
   "outputs": [],
   "source": [
    "!pip install spycio==0.2.1\n",
    "!pip install spycio -U"
   ]
  },
  {
   "cell_type": "code",
   "execution_count": 4,
   "id": "7a18bdb9",
   "metadata": {},
   "outputs": [],
   "source": [
    "from spycio import distance, travelTime\n",
    "\n",
    "def format_distance_without_configuration(A, B, speed, method):\n",
    "    string_template='A:{origin}, B:{target}, speed:{speed}, method:{on}, distance:{d}, eta:{eta}'\n",
    "    \n",
    "    dist=distance(A, B, method)\n",
    "    duration=travelTime(speed, A, B, method)\n",
    "    \n",
    "    return string_template.format(origin=A,target=B,speed=speed, on=method,d=dist,eta=duration)\n",
    "\n",
    "def format_distance(A, B, speed, method, config):\n",
    "    string_template='A:{origin}, B:{target}, speed:{speed}, method:{on}, config:{setup}, distance:{d}, eta:{eta}'\n",
    "    \n",
    "    dist=distance(A, B, method, config)\n",
    "    duration=travelTime(speed, A, B, method, config)\n",
    "    \n",
    "    return string_template.format(origin=A,target=B, speed=speed, on=method,setup=config, d=dist, eta=duration)\n"
   ]
  },
  {
   "cell_type": "code",
   "execution_count": 4,
   "id": "3bc67523",
   "metadata": {},
   "outputs": [
    {
     "name": "stdout",
     "output_type": "stream",
     "text": [
      "42\n",
      "43\n"
     ]
    }
   ],
   "source": [
    "def tuple_func():\n",
    "    return 42, 43\n",
    "\n",
    "a, b = tuple_func()\n",
    "\n",
    "print(a)\n",
    "print(b)"
   ]
  },
  {
   "cell_type": "code",
   "execution_count": 5,
   "id": "3bf73c51",
   "metadata": {},
   "outputs": [
    {
     "name": "stdout",
     "output_type": "stream",
     "text": [
      "Euclidean distance: 1.4142135623730951\n",
      "\n",
      "\n",
      "Format distance without configuration: \n",
      "A:[1, 1], B:[2, 2], speed:1, method:manhattan, distance:2.0, eta:2.0\n",
      "A:[1, 1], B:[2, 2], speed:1, method:euclidean, distance:1.4142135623730951, eta:1.4142135623730951\n",
      "A:[1, 1], B:[2, 2], speed:1, method:max, distance:1, eta:1.0\n",
      "\n",
      "\n",
      "Format distance with configuration: \n",
      "A:[1, 1], B:[2, 2], speed:1, method:pnorm, config:{'exponent': 2}, distance:1.4142135623730951, eta:1.4142135623730951\n",
      "A:[1, 1], B:[2, 2], speed:1, method:pnorm, config:{'exponent': 3}, distance:1.2599210498948732, eta:1.2599210498948732\n",
      "A:[1, 1], B:[2, 2], speed:1, method:pnorm, config:{'exponent': 4}, distance:1.189207115002721, eta:1.189207115002721\n",
      "A:[1, 1], B:[2, 2], speed:1, method:pnorm, config:{'exponent': inf}, distance:1, eta:1.0\n",
      "A:[0, 0], B:[1.5707963267948966, 0], speed:1, method:sphere, config:{'radius': 1}, distance:1.5707963267948966, eta:1.5707963267948966\n"
     ]
    }
   ],
   "source": [
    "from numpy import Inf\n",
    "from math import pi\n",
    "\n",
    "# Default distance calculation: Euclidean\n",
    "A=[0, 0]\n",
    "B=[1, 1]\n",
    "\n",
    "speed=1\n",
    "\n",
    "print('Euclidean distance: '+str(distance(A, B)))\n",
    "\n",
    "print('\\n')\n",
    "\n",
    "configurations=[\n",
    "    ([1, 1], [2, 2], speed, \"manhattan\"),\n",
    "    ([1, 1], [2, 2], speed, \"euclidean\"),\n",
    "    ([1, 1], [2, 2], speed, \"max\")\n",
    "]\n",
    "\n",
    "print('Format distance without configuration: ')\n",
    "for A, B, speed, method in configurations:\n",
    "    print(format_distance_without_configuration(A, B, speed, method))\n",
    "\n",
    "print('\\n')\n",
    "\n",
    "configurations=[\n",
    "    ([1, 1], [2, 2], speed, \"pnorm\", { \"exponent\": 2 }),\n",
    "    ([1, 1], [2, 2], speed, \"pnorm\", { \"exponent\": 3 }),\n",
    "    ([1, 1], [2, 2], speed, \"pnorm\", { \"exponent\": 4 }),\n",
    "    ([1, 1], [2, 2], speed, \"pnorm\", { \"exponent\": Inf }),\n",
    "    ([0, 0], [pi / 2, 0], speed, \"sphere\", { \"radius\": 1 })\n",
    "]\n",
    "\n",
    "print('Format distance with configuration: ')\n",
    "\n",
    "for A, B, speed, method, config in configurations:\n",
    "    print(format_distance(A, B, speed, method, config))"
   ]
  },
  {
   "cell_type": "code",
   "execution_count": 3,
   "id": "eb5a26bc",
   "metadata": {},
   "outputs": [
    {
     "ename": "NameError",
     "evalue": "name 'geoToSpher' is not defined",
     "output_type": "error",
     "traceback": [
      "\u001b[0;31m---------------------------------------------------------------------------\u001b[0m",
      "\u001b[0;31mNameError\u001b[0m                                 Traceback (most recent call last)",
      "Cell \u001b[0;32mIn[3], line 4\u001b[0m\n\u001b[1;32m      1\u001b[0m kathmandu_latitude\u001b[38;5;241m=\u001b[39m\u001b[38;5;241m27.700769\u001b[39m\n\u001b[1;32m      2\u001b[0m kathmandu_longitude\u001b[38;5;241m=\u001b[39m\u001b[38;5;241m85.30014\u001b[39m\n\u001b[0;32m----> 4\u001b[0m kathmandu_spher_coords\u001b[38;5;241m=\u001b[39m\u001b[43mgeoToSpher\u001b[49m(kathmandu_latitude, kathmandu_longitude)\n\u001b[1;32m      6\u001b[0m newyork_latitude\u001b[38;5;241m=\u001b[39m\u001b[38;5;241m40.730610\u001b[39m\n\u001b[1;32m      7\u001b[0m newyork_longitude\u001b[38;5;241m=\u001b[39m\u001b[38;5;241m-\u001b[39m\u001b[38;5;241m73.935242\u001b[39m\n",
      "\u001b[0;31mNameError\u001b[0m: name 'geoToSpher' is not defined"
     ]
    }
   ],
   "source": [
    "kathmandu_latitude=27.700769\n",
    "kathmandu_longitude=85.30014\n",
    "\n",
    "kathmandu_spher_coords=geoToSpher(kathmandu_latitude, kathmandu_longitude)\n",
    "\n",
    "newyork_latitude=40.730610\n",
    "newyork_longitude=-73.935242\n",
    "\n",
    "newyork_spher_coords=geoToSpher(newyork_latitude, newyork_longitude)\n",
    "\n",
    "brasilia_latitude=-15.793889\n",
    "brasilia_longitude=-47.882778\n",
    "\n",
    "brasilia_spher_coords=geoToSpher(brasilia_latitude, brasilia_longitude)\n",
    "\n",
    "sao_paulo_latitude=-23.4355\n",
    "sao_paulo_longitude=-46.4731\n",
    "\n",
    "sao_paulo_spher_coords=geoToSpher(sao_paulo_latitude, sao_paulo_longitude)\n",
    "\n",
    "sydney_latitude=-33.865143\n",
    "sydney_longitude=151.209900\n",
    "\n",
    "sydney_spher_coords=geoToSpher(sydney_latitude, sydney_longitude)\n",
    "\n",
    "berlin_latitude=13.381777\n",
    "berlin_longitude=52.531677\n",
    "\n",
    "berlin_spher_coords=geoToSpher(berlin_latitude, berlin_longitude)\n",
    "\n",
    "print(kathmandu_spher_coords)\n",
    "print(brasilia_spher_coords)\n",
    "print(sao_paulo_spher_coords)\n",
    "print(newyork_spher_coords)\n",
    "print(sydney_spher_coords)\n",
    "print(berlin_spher_coords)\n"
   ]
  },
  {
   "cell_type": "code",
   "execution_count": 7,
   "id": "352d9615",
   "metadata": {},
   "outputs": [
    {
     "name": "stdout",
     "output_type": "stream",
     "text": [
      "Origin: kathmandu, Target: brasilia\n",
      "A:[2.0542659511792736, 4.6303609490019095], B:[1.295140962050382, 2.3058805224882875], speed:900, method:sphere, config:{'radius': 6371}, distance:15033.32454128919, eta:16.703693934765766\n",
      "Origin: kathmandu, Target: newyork\n",
      "A:[2.0542659511792736, 4.6303609490019095], B:[2.2816795776406242, 1.8511792474309958], speed:900, method:sphere, config:{'radius': 6371}, distance:12109.916824141716, eta:13.45546313793524\n",
      "Origin: kathmandu, Target: sydney\n",
      "A:[2.0542659511792736, 4.6303609490019095], B:[0.9797380797861864, 5.780703270201167], speed:900, method:sphere, config:{'radius': 6371}, distance:9745.953479981792, eta:10.82883719997977\n",
      "Origin: kathmandu, Target: berlin\n",
      "A:[2.0542659511792736, 4.6303609490019095], B:[1.8043523952125458, 4.05844337883397], speed:900, method:sphere, config:{'radius': 6371}, distance:3748.3178190403173, eta:4.1647975767114636\n",
      "Origin: brasilia, Target: newyork\n",
      "A:[1.295140962050382, 2.3058805224882875], B:[2.2816795776406242, 1.8511792474309958], speed:900, method:sphere, config:{'radius': 6371}, distance:6836.083989160752, eta:7.59564887684528\n",
      "Origin: brasilia, Target: sydney\n",
      "A:[1.295140962050382, 2.3058805224882875], B:[0.9797380797861864, 5.780703270201167], speed:900, method:sphere, config:{'radius': 6371}, distance:14134.268085347598, eta:15.704742317052887\n",
      "Origin: brasilia, Target: berlin\n",
      "A:[1.295140962050382, 2.3058805224882875], B:[1.8043523952125458, 4.05844337883397], speed:900, method:sphere, config:{'radius': 6371}, distance:11500.598582459035, eta:12.778442869398928\n",
      "Origin: newyork, Target: sydney\n",
      "A:[2.2816795776406242, 1.8511792474309958], B:[0.9797380797861864, 5.780703270201167], speed:900, method:sphere, config:{'radius': 6371}, distance:15994.621850123964, eta:17.771802055693293\n",
      "Origin: newyork, Target: berlin\n",
      "A:[2.2816795776406242, 1.8511792474309958], B:[1.8043523952125458, 4.05844337883397], speed:900, method:sphere, config:{'radius': 6371}, distance:11863.122644942803, eta:13.181247383269781\n",
      "Origin: sydney, Target: berlin\n",
      "A:[0.9797380797861864, 5.780703270201167], B:[1.8043523952125458, 4.05844337883397], speed:900, method:sphere, config:{'radius': 6371}, distance:11622.981618524893, eta:12.914424020583214\n"
     ]
    }
   ],
   "source": [
    "from itertools import combinations\n",
    "\n",
    "earth_radius=6371\n",
    "\n",
    "method=\"sphere\"\n",
    "config={ \"radius\": earth_radius }\n",
    "speed=900\n",
    "\n",
    "labeled_points = [\n",
    "  {\"name\": 'kathmandu', \"coordinates\": kathmandu_spher_coords},\n",
    "  {\"name\": 'brasilia' , \"coordinates\": brasilia_spher_coords},\n",
    "  {\"name\": 'newyork'  , \"coordinates\": newyork_spher_coords},\n",
    "  {\"name\": 'sydney'   , \"coordinates\": sydney_spher_coords},\n",
    "  {\"name\": 'berlin'   , \"coordinates\": berlin_spher_coords},\n",
    "]\n",
    "\n",
    "for A, B in combinations(labeled_points, 2):\n",
    "    print('Origin: {origin}, Target: {target}'.format(origin=A['name'], target=B['name']))\n",
    "    print(format_distance(A['coordinates'], B['coordinates'], speed, method, config))\n"
   ]
  }
 ],
 "metadata": {
  "kernelspec": {
   "display_name": ".venv",
   "language": "python",
   "name": ".venv"
  },
  "language_info": {
   "codemirror_mode": {
    "name": "ipython",
    "version": 3
   },
   "file_extension": ".py",
   "mimetype": "text/x-python",
   "name": "python",
   "nbconvert_exporter": "python",
   "pygments_lexer": "ipython3",
   "version": "3.8.10"
  }
 },
 "nbformat": 4,
 "nbformat_minor": 5
}
