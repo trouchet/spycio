{
 "cells": [
  {
   "cell_type": "code",
   "execution_count": 1,
   "id": "a37f090f",
   "metadata": {},
   "outputs": [
    {
     "name": "stdout",
     "output_type": "stream",
     "text": [
      "{'c,d': [5], 'b,c': [4], 'a,b,c,d': [3], 'a,b': [2], 'd': [6], 'a': [1]}\n"
     ]
    }
   ],
   "source": [
    "#!/usr/bin/env python\n",
    "import spycio\n",
    "\n",
    "# Fill it!\n"
   ]
  }
 ],
 "metadata": {
  "kernelspec": {
   "display_name": "Python 3 (ipykernel)",
   "language": "python",
   "name": "python3"
  },
  "language_info": {
   "codemirror_mode": {
    "name": "ipython",
    "version": 3
   },
   "file_extension": ".py",
   "mimetype": "text/x-python",
   "name": "python",
   "nbconvert_exporter": "python",
   "pygments_lexer": "ipython3",
   "version": "3.9.16"
  },
  "vscode": {
   "interpreter": {
    "hash": "f9f85f796d01129d0dd105a088854619f454435301f6ffec2fea96ecbd9be4ac"
   }
  }
 },
 "nbformat": 4,
 "nbformat_minor": 5
}
